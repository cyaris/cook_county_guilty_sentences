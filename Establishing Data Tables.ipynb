version https://git-lfs.github.com/spec/v1
oid sha256:9b6154b410b207e51e94e5fafeb4df9434d51dc07067f9ad21f3dce9d88caa16
size 89331
