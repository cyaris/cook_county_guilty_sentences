{
 "cells": [
  {
   "cell_type": "code",
   "execution_count": 1,
   "metadata": {},
   "outputs": [],
   "source": [
    "from copy import deepcopy\n",
    "import pandas as pd\n",
    "import numpy as np"
   ]
  },
  {
   "cell_type": "code",
   "execution_count": 2,
   "metadata": {},
   "outputs": [],
   "source": [
    "pd.set_option('display.max_colwidth', 1000)\n",
    "pd.set_option('display.max_columns', None)"
   ]
  },
  {
   "cell_type": "code",
   "execution_count": 3,
   "metadata": {},
   "outputs": [],
   "source": [
    "df = pd.read_pickle('../Pickles/df_clean.pkl')"
   ]
  },
  {
   "cell_type": "code",
   "execution_count": 4,
   "metadata": {},
   "outputs": [
    {
     "data": {
      "text/plain": [
       "Index(['highest_charge', 'offense_title', 'sentence_phase', 'sentence_type',\n",
       "       'age_at_incident', 'gender', 'race', 'current_sentence', 'num_charges',\n",
       "       'trial_outcome', 'class_adj', 'sentence_years', 'years_until_charged',\n",
       "       'case_years'],\n",
       "      dtype='object')"
      ]
     },
     "execution_count": 4,
     "metadata": {},
     "output_type": "execute_result"
    }
   ],
   "source": [
    "df.columns"
   ]
  },
  {
   "cell_type": "code",
   "execution_count": 5,
   "metadata": {},
   "outputs": [],
   "source": [
    "# created dataframes for dummy variables for highest_charge and sentence_phase, sentence_type, gender, race, current_sentence, trial_outcome and class_adj.\n",
    "# joined dummy variable dataframes with main dataframe.\n",
    "\n",
    "highest_charge = pd.get_dummies(df['highest_charge'])\n",
    "highest_charge.drop(False, axis = 1, inplace = True)\n",
    "highest_charge.rename({True: 'highest_charge_true'}, axis = 1, inplace = True)\n",
    "\n",
    "sentence_phase = pd.get_dummies(df['sentence_phase'])\n",
    "sentence_phase.columns = ['amended/corrected_sentence_phase', 'original_sentence_phase',\n",
    "'probation_violation_sentence_phase', 'remanded_sentence_phase', 'resentenced_sentence_phase']\n",
    "\n",
    "sentence_type = pd.get_dummies(df['sentence_type'])\n",
    "sentence_type.columns = ['conditional_discharge_sentence','conversion_sentence',\n",
    "'boot_camp_sentence', 'death_sentence', 'jail_sentence', 'prison_sentence',\n",
    "'probation_sentence', 'supervision_sentence']\n",
    "    \n",
    "gender = pd.get_dummies(df['gender'])\n",
    "gender.rename({'Male': 'male', 'Female': 'female'}, axis = 1, inplace = True)\n",
    "gender.drop('female', axis = 1, inplace = True)\n",
    "\n",
    "race = pd.get_dummies(df['race'])\n",
    "race.columns = ['asian', 'biracial', 'black', 'hispanic', 'unknown_race', 'white']\n",
    "# race.drop('unknown_race', axis = 1, inplace = True)\n",
    "\n",
    "current_sentence = pd.get_dummies(df['current_sentence'])\n",
    "current_sentence.rename({True: 'current_sentence_true', False: 'current_sentence_false'}, axis = 1, inplace = True)\n",
    "current_sentence.drop('current_sentence_false', axis = 1, inplace = True)\n",
    "\n",
    "trial_outcome = pd.get_dummies(df['trial_outcome'])\n",
    "trial_outcome.rename({'Plead Guilty': 'plead_guilty', 'Found Guilty': 'found_guilty'}, axis = 1, inplace = True)\n",
    "trial_outcome.drop('plead_guilty', axis = 1, inplace = True)\n",
    "\n",
    "class_adj = pd.get_dummies(df['class_adj'])\n",
    "class_adj.columns = ['m_class', 'other_class', 'x_class']\n",
    "# class_adj.drop('other_class', axis = 1, inplace = True)\n",
    "\n",
    "df = deepcopy(pd.concat([df, highest_charge, sentence_phase, sentence_type,\n",
    "                         gender, race, current_sentence, trial_outcome, class_adj],\n",
    "                        axis = 1, join = 'outer')).reset_index()\n",
    "\n",
    "df.drop(['index', 'highest_charge', 'sentence_phase', 'sentence_type', 'gender',\n",
    "         'race', 'current_sentence', 'trial_outcome', 'class_adj'], axis = 1, inplace = True)\n",
    "\n",
    "df.rename({'highest_charge_true': 'highest_charge', 'current_sentence_true': 'current_sentence'}, axis = 1, inplace = True)"
   ]
  },
  {
   "cell_type": "code",
   "execution_count": 6,
   "metadata": {},
   "outputs": [
    {
     "name": "stdout",
     "output_type": "stream",
     "text": [
      "highest_charge 119347\n",
      "amended/corrected_sentence_phase 1035\n",
      "original_sentence_phase 142262\n",
      "probation_violation_sentence_phase 4154\n",
      "remanded_sentence_phase 88\n",
      "resentenced_sentence_phase 1164\n",
      "conditional_discharge_sentence 1627\n",
      "conversion_sentence 25\n",
      "boot_camp_sentence 1757\n",
      "death_sentence 2\n",
      "jail_sentence 4317\n",
      "prison_sentence 79529\n",
      "probation_sentence 60351\n",
      "supervision_sentence 1095\n",
      "male 130806\n",
      "asian 878\n",
      "biracial 24615\n",
      "black 99427\n",
      "hispanic 2575\n",
      "unknown_race 285\n",
      "white 20923\n",
      "current_sentence 143486\n",
      "found_guilty 9559\n",
      "m_class 644\n",
      "other_class 137874\n",
      "x_class 10185\n"
     ]
    }
   ],
   "source": [
    "# checked for the number of occurances in each dummy variable.\n",
    "print('highest_charge', df['highest_charge'].sum())\n",
    "print('amended/corrected_sentence_phase', df['amended/corrected_sentence_phase'].sum())\n",
    "print('original_sentence_phase', df['original_sentence_phase'].sum())\n",
    "print('probation_violation_sentence_phase', df['probation_violation_sentence_phase'].sum())\n",
    "print('remanded_sentence_phase', df['remanded_sentence_phase'].sum())\n",
    "print('resentenced_sentence_phase', df['resentenced_sentence_phase'].sum())\n",
    "print('conditional_discharge_sentence', df['conditional_discharge_sentence'].sum())\n",
    "print('conversion_sentence', df['conversion_sentence'].sum())\n",
    "print('boot_camp_sentence', df['boot_camp_sentence'].sum())\n",
    "print('death_sentence', df['death_sentence'].sum())\n",
    "print('jail_sentence', df['jail_sentence'].sum())\n",
    "print('prison_sentence', df['prison_sentence'].sum())\n",
    "print('probation_sentence', df['probation_sentence'].sum())\n",
    "print('supervision_sentence', df['supervision_sentence'].sum())\n",
    "print('male', df['male'].sum())\n",
    "print('asian', df['asian'].sum())\n",
    "print('biracial', df['biracial'].sum())\n",
    "print('black', df['black'].sum())\n",
    "print('hispanic', df['hispanic'].sum())\n",
    "print('unknown_race', df['unknown_race'].sum())\n",
    "print('white', df['white'].sum())\n",
    "print('current_sentence', df['current_sentence'].sum())\n",
    "print('found_guilty', df['found_guilty'].sum())\n",
    "print('m_class', df['m_class'].sum())\n",
    "print('other_class', df['other_class'].sum())\n",
    "print('x_class', df['x_class'].sum())"
   ]
  },
  {
   "cell_type": "code",
   "execution_count": 7,
   "metadata": {},
   "outputs": [],
   "source": [
    "df = deepcopy(df[(df['x_class'] == 1)])"
   ]
  },
  {
   "cell_type": "code",
   "execution_count": 8,
   "metadata": {},
   "outputs": [],
   "source": [
    "df.to_pickle('../Pickles/df_modeling.pkl')"
   ]
  },
  {
   "cell_type": "code",
   "execution_count": null,
   "metadata": {},
   "outputs": [],
   "source": []
  }
 ],
 "metadata": {
  "kernelspec": {
   "display_name": "Python 3",
   "language": "python",
   "name": "python3"
  },
  "language_info": {
   "codemirror_mode": {
    "name": "ipython",
    "version": 3
   },
   "file_extension": ".py",
   "mimetype": "text/x-python",
   "name": "python",
   "nbconvert_exporter": "python",
   "pygments_lexer": "ipython3",
   "version": "3.6.4"
  }
 },
 "nbformat": 4,
 "nbformat_minor": 2
}
